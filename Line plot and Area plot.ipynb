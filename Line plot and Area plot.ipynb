{
 "cells": [
  {
   "cell_type": "code",
   "execution_count": 1,
   "metadata": {},
   "outputs": [],
   "source": [
    "# we are using the inline backend\n",
    "%matplotlib inline \n",
    "\n",
    "import matplotlib as mpl\n",
    "import matplotlib.pyplot as plt"
   ]
  },
  {
   "cell_type": "code",
   "execution_count": 2,
   "metadata": {},
   "outputs": [
    {
     "name": "stdout",
     "output_type": "stream",
     "text": [
      "Matplotlib version:  3.1.3\n"
     ]
    }
   ],
   "source": [
    "#check if Matplotlib is loaded\n",
    "print ('Matplotlib version: ', mpl.__version__) # >= 2.0.0"
   ]
  },
  {
   "cell_type": "code",
   "execution_count": null,
   "metadata": {},
   "outputs": [],
   "source": [
    "# Line Plots\n",
    "#First, we will extract the data series for 'British Columbia-Canada'.\n",
    "bc_canada = df_covid_19.loc['British Columbia-Canada', days]\n",
    "bc_canada.head(20)"
   ]
  },
  {
   "cell_type": "code",
   "execution_count": null,
   "metadata": {},
   "outputs": [],
   "source": [
    "bc_canada.plot(kind='line')\n",
    "\n",
    "plt.title('The spread of Covid-19 virus in British Columbia_Canada')\n",
    "plt.ylabel('Number of people')\n",
    "plt.xlabel('Days')\n",
    "\n",
    "\n",
    "# syntax: plt.text(x, y, label)\n",
    "plt.text('2020-03-17', 150, 'A rise in the number of people got the virus') # see note below\n",
    "\n",
    "plt.show() "
   ]
  },
  {
   "cell_type": "code",
   "execution_count": null,
   "metadata": {},
   "outputs": [],
   "source": [
    "#Let see the spread of covid-19 in Canada\n",
    "df_can= df_covid_19[condition]\n",
    "df_can.drop(['Total'], axis=1, inplace=True)\n",
    "df_can.head()"
   ]
  },
  {
   "cell_type": "code",
   "execution_count": null,
   "metadata": {},
   "outputs": [],
   "source": [
    "#I plot the data since 2020-03-15 to show the plot more obviouse,\n",
    "df_can = df_can[days[53:]].transpose()\n",
    "df_can.head()"
   ]
  },
  {
   "cell_type": "code",
   "execution_count": null,
   "metadata": {},
   "outputs": [],
   "source": [
    "#Line Plot:\n",
    "df_can.plot(kind='line', figsize=(20, 15)) # pass a tuple (x, y) size\n",
    "plt.title('The spread of Covid-19 virus in different states in Canada')\n",
    "plt.ylabel('Number of people')\n",
    "plt.xlabel('Days')\n",
    "\n",
    "plt.show()"
   ]
  },
  {
   "cell_type": "code",
   "execution_count": null,
   "metadata": {},
   "outputs": [],
   "source": [
    "#Area Plot\n",
    "import matplotlib as mpl\n",
    "import matplotlib.pyplot as plt\n",
    "\n",
    "df_can.plot(kind='area', figsize=(14, 8))\n",
    "plt.title('The spread of Covid-19 virus in different states in Canada')\n",
    "plt.ylabel('Number of people')\n",
    "plt.xlabel('Days')\n",
    "plt.show()"
   ]
  }
 ],
 "metadata": {
  "kernelspec": {
   "display_name": "Python 3",
   "language": "python",
   "name": "python3"
  },
  "language_info": {
   "codemirror_mode": {
    "name": "ipython",
    "version": 3
   },
   "file_extension": ".py",
   "mimetype": "text/x-python",
   "name": "python",
   "nbconvert_exporter": "python",
   "pygments_lexer": "ipython3",
   "version": "3.7.6"
  }
 },
 "nbformat": 4,
 "nbformat_minor": 4
}
