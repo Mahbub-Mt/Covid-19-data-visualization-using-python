{
 "cells": [
  {
   "cell_type": "code",
   "execution_count": null,
   "metadata": {},
   "outputs": [],
   "source": [
    "#Top 5 Regions:\n",
    "\n",
    "df_covid_19.sort_values(['Total'], ascending=False, axis=0, inplace=True)\n",
    "\n",
    "# get the top 5 entries\n",
    "df_top5 = df_covid_19.head()\n",
    "\n",
    "# transpose the dataframe\n",
    "df_top5 = df_top5[days].transpose() \n",
    "\n",
    "df_top5.head()"
   ]
  },
  {
   "cell_type": "code",
   "execution_count": null,
   "metadata": {},
   "outputs": [],
   "source": [
    "df_top5.plot(kind='area', \n",
    "             alpha=0.25, # 0-1, default value a= 0.5\n",
    "             stacked=False,\n",
    "             figsize=(20, 10), # pass a tuple (x, y) size\n",
    "            )\n",
    "\n",
    "plt.title(\"Top 5 Countries struggling with Coronavirus\")\n",
    "plt.ylabel('Number of people got sick')\n",
    "plt.xlabel('days')\n",
    "\n",
    "\n",
    "plt.show()"
   ]
  },
  {
   "cell_type": "code",
   "execution_count": null,
   "metadata": {},
   "outputs": [],
   "source": [
    "# The Least 5 Regions:\n",
    "\n",
    "df_covid_19.sort_values(['Total'], ascending=False, axis=0, inplace=True)\n",
    "# get the least 5 entries\n",
    "df_least5 = df_covid_19.tail()\n",
    "# transpose the dataframe\n",
    "df_least5 = df_least5[days].transpose() \n",
    "\n",
    "df_least5.head()"
   ]
  },
  {
   "cell_type": "code",
   "execution_count": null,
   "metadata": {},
   "outputs": [],
   "source": [
    "df_least5.plot(kind='area', \n",
    "             stacked=False,\n",
    "             alpha=0.45,\n",
    "             figsize=(20, 10), # pass a tuple (x, y) size\n",
    "             )\n",
    "\n",
    "plt.title(\"Top 5 Countries struggling with Coronavirus\")\n",
    "plt.ylabel('Number of people got sick')\n",
    "plt.xlabel('days')\n",
    "\n",
    "plt.show()"
   ]
  },
  {
   "cell_type": "code",
   "execution_count": null,
   "metadata": {},
   "outputs": [],
   "source": [
    "df_covid_19.sort_values(['Total'], ascending=False, axis=0, inplace=True)\n",
    "# get the least 5 entries\n",
    "df_least5 = df_covid_19.tail()\n",
    "# transpose the dataframe\n",
    "df_least5 = df_least5[days[71:]].transpose() #days[71:] specified the result since 2020/04/02 to 2020/04/11\n",
    "\n",
    "df_least5.head()"
   ]
  },
  {
   "cell_type": "code",
   "execution_count": null,
   "metadata": {},
   "outputs": [],
   "source": [
    "df_least5.plot(kind='area', \n",
    "             stacked=False,\n",
    "             alpha=0.5,\n",
    "             figsize=(20, 10), # pass a tuple (x, y) size\n",
    "             )\n",
    "\n",
    "plt.title(\"Top 5 Countries struggling with Coronavirus\")\n",
    "plt.ylabel('Number of people got sick')\n",
    "plt.xlabel('days')\n",
    "\n",
    "plt.show()"
   ]
  }
 ],
 "metadata": {
  "kernelspec": {
   "display_name": "Python 3",
   "language": "python",
   "name": "python3"
  },
  "language_info": {
   "codemirror_mode": {
    "name": "ipython",
    "version": 3
   },
   "file_extension": ".py",
   "mimetype": "text/x-python",
   "name": "python",
   "nbconvert_exporter": "python",
   "pygments_lexer": "ipython3",
   "version": "3.7.6"
  }
 },
 "nbformat": 4,
 "nbformat_minor": 4
}
